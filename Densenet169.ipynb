{
 "cells": [
  {
   "cell_type": "markdown",
   "id": "ce8b141c",
   "metadata": {},
   "source": [
    "# Import lib\n"
   ]
  },
  {
   "cell_type": "code",
   "execution_count": 1,
   "id": "d79e6120",
   "metadata": {},
   "outputs": [],
   "source": [
    "import pandas as pd\n",
    "import numpy as np\n",
    "import cv2\n",
    "\n",
    "import tensorflow as tf\n",
    "from tensorflow import keras\n",
    "from tensorflow.keras import layers\n",
    "from tensorflow.python.keras.layers import Dense, Flatten\n",
    "from tensorflow.keras.models import Sequential\n",
    "from tensorflow.keras.optimizers import Adam\n",
    "\n",
    "# useful for getting number of output classes\n",
    "from glob import glob\n",
    "\n",
    "import matplotlib.pyplot as plt\n",
    "from matplotlib import image\n",
    "from PIL import Image"
   ]
  },
  {
   "cell_type": "markdown",
   "id": "ebb73228",
   "metadata": {},
   "source": [
    "# Dataset"
   ]
  },
  {
   "cell_type": "code",
   "execution_count": 2,
   "id": "f7d636b2",
   "metadata": {},
   "outputs": [],
   "source": [
    "train_path = 'archive/colored_images_mod/train'\n",
    "test_path = 'archive/colored_images_mod/test'"
   ]
  },
  {
   "cell_type": "code",
   "execution_count": 3,
   "id": "95a1345d",
   "metadata": {},
   "outputs": [],
   "source": [
    "classes = glob('archive/colored_images_mod/train/*')"
   ]
  },
  {
   "cell_type": "code",
   "execution_count": 4,
   "id": "bb3fe176",
   "metadata": {},
   "outputs": [],
   "source": [
    "# Use the Image Data Generator to import the images from the dataset\n",
    "from tensorflow.keras.preprocessing.image import ImageDataGenerator\n",
    "\n",
    "train_datagen = ImageDataGenerator(rescale = 1./255,\n",
    "                                   rotation_range = 15,\n",
    "                                   shear_range = 0.2,\n",
    "                                   zoom_range = 0.2,\n",
    "                                   horizontal_flip = True,\n",
    "                                   vertical_flip=True)\n",
    "\n",
    "test_datagen = ImageDataGenerator(rescale = 1./255)"
   ]
  },
  {
   "cell_type": "code",
   "execution_count": 5,
   "id": "a8df38dd",
   "metadata": {},
   "outputs": [
    {
     "name": "stdout",
     "output_type": "stream",
     "text": [
      "Found 2929 images belonging to 5 classes.\n"
     ]
    }
   ],
   "source": [
    "# Make sure you provide the same target size as initialied for the image size\n",
    "training_set = train_datagen.flow_from_directory(train_path,\n",
    "                                                 target_size = (224, 224),\n",
    "                                                 batch_size = 32,\n",
    "                                                 class_mode = 'categorical')"
   ]
  },
  {
   "cell_type": "code",
   "execution_count": 6,
   "id": "3fb8eb0d",
   "metadata": {},
   "outputs": [
    {
     "name": "stdout",
     "output_type": "stream",
     "text": [
      "Found 733 images belonging to 5 classes.\n"
     ]
    }
   ],
   "source": [
    "test_set = test_datagen.flow_from_directory(test_path,\n",
    "                                           target_size = (224, 224),\n",
    "                                           batch_size = 32,\n",
    "                                           class_mode = 'categorical')"
   ]
  },
  {
   "cell_type": "markdown",
   "id": "223672fd",
   "metadata": {},
   "source": [
    "# Densenet169"
   ]
  },
  {
   "cell_type": "code",
   "execution_count": 7,
   "id": "03dbf923",
   "metadata": {},
   "outputs": [],
   "source": [
    "Densenet_model = Sequential()\n",
    "\n",
    "pretrained_model = tf.keras.applications.DenseNet169(\n",
    "    include_top=False,\n",
    "    weights=\"imagenet\",\n",
    "    input_shape=(224,224,3),\n",
    "    pooling=None\n",
    ")\n",
    "\n",
    "for layers in pretrained_model.layers:\n",
    "    layers.trainable = False\n",
    "\n",
    "Densenet_model.add(pretrained_model)\n",
    "Densenet_model.add(Flatten())\n",
    "Densenet_model.add(Dense(256, activation='relu'))\n",
    "Densenet_model.add(Dense(5, activation='softmax'))"
   ]
  },
  {
   "cell_type": "code",
   "execution_count": 8,
   "id": "e5b28950",
   "metadata": {},
   "outputs": [
    {
     "name": "stdout",
     "output_type": "stream",
     "text": [
      "Model: \"sequential\"\n",
      "_________________________________________________________________\n",
      "Layer (type)                 Output Shape              Param #   \n",
      "=================================================================\n",
      "densenet169 (Functional)     (None, 7, 7, 1664)        12642880  \n",
      "_________________________________________________________________\n",
      "module_wrapper (ModuleWrappe (None, 81536)             0         \n",
      "_________________________________________________________________\n",
      "module_wrapper_1 (ModuleWrap (None, 256)               20873472  \n",
      "_________________________________________________________________\n",
      "module_wrapper_2 (ModuleWrap (None, 5)                 1285      \n",
      "=================================================================\n",
      "Total params: 33,517,637\n",
      "Trainable params: 20,874,757\n",
      "Non-trainable params: 12,642,880\n",
      "_________________________________________________________________\n"
     ]
    }
   ],
   "source": [
    "Densenet_model.summary()"
   ]
  },
  {
   "cell_type": "code",
   "execution_count": 9,
   "id": "5e4699b0",
   "metadata": {},
   "outputs": [],
   "source": [
    "Densenet_model.compile(optimizer=Adam(learning_rate=0.001),loss='categorical_crossentropy',metrics=['accuracy'])"
   ]
  },
  {
   "cell_type": "code",
   "execution_count": 10,
   "id": "8c2e0d72",
   "metadata": {},
   "outputs": [
    {
     "name": "stdout",
     "output_type": "stream",
     "text": [
      "Epoch 1/20\n",
      "92/92 [==============================] - 101s 897ms/step - loss: 11.1434 - accuracy: 0.6279 - val_loss: 1.0751 - val_accuracy: 0.7599\n",
      "Epoch 2/20\n",
      "92/92 [==============================] - 46s 494ms/step - loss: 1.4200 - accuracy: 0.7190 - val_loss: 1.5582 - val_accuracy: 0.7244\n",
      "Epoch 3/20\n",
      "92/92 [==============================] - 51s 542ms/step - loss: 1.2564 - accuracy: 0.7429 - val_loss: 2.0345 - val_accuracy: 0.6862\n",
      "Epoch 4/20\n",
      "92/92 [==============================] - 42s 455ms/step - loss: 1.3415 - accuracy: 0.7351 - val_loss: 1.1666 - val_accuracy: 0.7244\n",
      "Epoch 5/20\n",
      "92/92 [==============================] - 33s 363ms/step - loss: 0.7773 - accuracy: 0.7723 - val_loss: 0.8036 - val_accuracy: 0.6930\n",
      "Epoch 6/20\n",
      "92/92 [==============================] - 34s 371ms/step - loss: 0.5996 - accuracy: 0.7849 - val_loss: 0.8322 - val_accuracy: 0.7040\n",
      "Epoch 7/20\n",
      "92/92 [==============================] - 35s 375ms/step - loss: 0.5379 - accuracy: 0.8003 - val_loss: 0.6429 - val_accuracy: 0.7790\n",
      "Epoch 8/20\n",
      "92/92 [==============================] - 35s 375ms/step - loss: 0.5443 - accuracy: 0.8081 - val_loss: 0.6471 - val_accuracy: 0.7476\n",
      "Epoch 9/20\n",
      "92/92 [==============================] - 35s 384ms/step - loss: 0.5224 - accuracy: 0.8105 - val_loss: 0.5882 - val_accuracy: 0.7995\n",
      "Epoch 10/20\n",
      "92/92 [==============================] - 35s 379ms/step - loss: 0.5024 - accuracy: 0.8228 - val_loss: 0.7441 - val_accuracy: 0.7381\n",
      "Epoch 11/20\n",
      "92/92 [==============================] - 35s 381ms/step - loss: 0.5213 - accuracy: 0.8146 - val_loss: 0.6318 - val_accuracy: 0.7681\n",
      "Epoch 12/20\n",
      "92/92 [==============================] - 35s 384ms/step - loss: 0.4906 - accuracy: 0.8262 - val_loss: 0.6497 - val_accuracy: 0.7640\n",
      "Epoch 13/20\n",
      "92/92 [==============================] - 35s 381ms/step - loss: 0.4600 - accuracy: 0.8262 - val_loss: 0.5784 - val_accuracy: 0.8035\n",
      "Epoch 14/20\n",
      "92/92 [==============================] - 36s 385ms/step - loss: 0.4670 - accuracy: 0.8348 - val_loss: 0.6001 - val_accuracy: 0.7967\n",
      "Epoch 15/20\n",
      "92/92 [==============================] - 36s 387ms/step - loss: 0.4377 - accuracy: 0.8313 - val_loss: 0.7031 - val_accuracy: 0.7367\n",
      "Epoch 16/20\n",
      "92/92 [==============================] - 36s 393ms/step - loss: 0.4357 - accuracy: 0.8416 - val_loss: 0.5929 - val_accuracy: 0.7858\n",
      "Epoch 17/20\n",
      "92/92 [==============================] - 35s 382ms/step - loss: 0.4257 - accuracy: 0.8399 - val_loss: 0.5416 - val_accuracy: 0.8186\n",
      "Epoch 18/20\n",
      "92/92 [==============================] - 36s 394ms/step - loss: 0.4466 - accuracy: 0.8409 - val_loss: 0.5574 - val_accuracy: 0.7940\n",
      "Epoch 19/20\n",
      "92/92 [==============================] - 35s 382ms/step - loss: 0.4112 - accuracy: 0.8484 - val_loss: 0.5289 - val_accuracy: 0.8022\n",
      "Epoch 20/20\n",
      "92/92 [==============================] - 35s 382ms/step - loss: 0.4102 - accuracy: 0.8447 - val_loss: 0.5941 - val_accuracy: 0.7844\n"
     ]
    }
   ],
   "source": [
    "epochs=20\n",
    "history = Densenet_model.fit(\n",
    "  training_set,\n",
    "  validation_data=test_set,\n",
    "  epochs=epochs\n",
    ")"
   ]
  },
  {
   "cell_type": "code",
   "execution_count": 11,
   "id": "5d0b10a6",
   "metadata": {},
   "outputs": [
    {
     "data": {
      "image/png": "[encoded data removed]",
      "text/plain": [
       "<Figure size 432x288 with 1 Axes>"
      ]
     },
     "metadata": {
      "needs_background": "light"
     },
     "output_type": "display_data"
    },
    {
     "data": {
      "image/png": "[encoded data removed]",
      "text/plain": [
       "<Figure size 432x288 with 1 Axes>"
      ]
     },
     "metadata": {
      "needs_background": "light"
     },
     "output_type": "display_data"
    }
   ],
   "source": [
    "# plot the loss\n",
    "plt.plot(history.history['loss'], label='train loss')\n",
    "plt.plot(history.history['val_loss'], label='test loss')\n",
    "plt.legend()\n",
    "plt.show()\n",
    "\n",
    "# plot the accuracy\n",
    "plt.plot(history.history['accuracy'], label='train acc')\n",
    "plt.plot(history.history['val_accuracy'], label='test acc')\n",
    "plt.legend()\n",
    "plt.show()"
   ]
  },
  {
   "cell_type": "code",
   "execution_count": null,
   "id": "b50ee092",
   "metadata": {},
   "outputs": [],
   "source": []
  }
 ],
 "metadata": {
  "kernelspec": {
   "display_name": "Python 3",
   "language": "python",
   "name": "python3"
  },
  "language_info": {
   "codemirror_mode": {
    "name": "ipython",
    "version": 3
   },
   "file_extension": ".py",
   "mimetype": "text/x-python",
   "name": "python",
   "nbconvert_exporter": "python",
   "pygments_lexer": "ipython3",
   "version": "3.6.13"
  }
 },
 "nbformat": 4,
 "nbformat_minor": 5
}
