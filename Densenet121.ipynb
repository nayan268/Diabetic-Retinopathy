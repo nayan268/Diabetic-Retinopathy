{
 "cells": [
  {
   "cell_type": "markdown",
   "id": "ce8b141c",
   "metadata": {},
   "source": [
    "# Import lib\n"
   ]
  },
  {
   "cell_type": "code",
   "execution_count": 1,
   "id": "d79e6120",
   "metadata": {},
   "outputs": [],
   "source": [
    "import pandas as pd\n",
    "import numpy as np\n",
    "import cv2\n",
    "\n",
    "import tensorflow as tf\n",
    "from tensorflow import keras\n",
    "from tensorflow.keras import layers\n",
    "from tensorflow.python.keras.layers import Dense, Flatten\n",
    "from tensorflow.keras.models import Sequential\n",
    "from tensorflow.keras.optimizers import Adam\n",
    "\n",
    "# useful for getting number of output classes\n",
    "from glob import glob\n",
    "\n",
    "import matplotlib.pyplot as plt\n",
    "from matplotlib import image\n",
    "from PIL import Image"
   ]
  },
  {
   "cell_type": "markdown",
   "id": "ebb73228",
   "metadata": {},
   "source": [
    "# Dataset"
   ]
  },
  {
   "cell_type": "code",
   "execution_count": 2,
   "id": "f7d636b2",
   "metadata": {},
   "outputs": [],
   "source": [
    "train_path = 'archive/new_dataset/train'\n",
    "test_path = 'archive/new_dataset/test'"
   ]
  },
  {
   "cell_type": "code",
   "execution_count": 3,
   "id": "95a1345d",
   "metadata": {},
   "outputs": [],
   "source": [
    "classes = glob('archive/colored_images_mod/train/*')"
   ]
  },
  {
   "cell_type": "code",
   "execution_count": 4,
   "id": "bb3fe176",
   "metadata": {},
   "outputs": [],
   "source": [
    "# Use the Image Data Generator to import the images from the dataset\n",
    "from tensorflow.keras.preprocessing.image import ImageDataGenerator\n",
    "\n",
    "train_datagen = ImageDataGenerator(rescale = 1./255,\n",
    "                                   rotation_range = 15,\n",
    "                                   shear_range = 0.2,\n",
    "                                   zoom_range = 0.2,\n",
    "                                   horizontal_flip = True,\n",
    "                                   vertical_flip=True)\n",
    "\n",
    "test_datagen = ImageDataGenerator(rescale = 1./255)"
   ]
  },
  {
   "cell_type": "code",
   "execution_count": 5,
   "id": "a8df38dd",
   "metadata": {},
   "outputs": [
    {
     "name": "stdout",
     "output_type": "stream",
     "text": [
      "Found 2929 images belonging to 5 classes.\n"
     ]
    }
   ],
   "source": [
    "# Make sure you provide the same target size as initialied for the image size\n",
    "training_set = train_datagen.flow_from_directory(train_path,\n",
    "                                                 target_size = (224, 224),\n",
    "                                                 batch_size = 32,\n",
    "                                                 class_mode = 'categorical')"
   ]
  },
  {
   "cell_type": "code",
   "execution_count": 6,
   "id": "3fb8eb0d",
   "metadata": {},
   "outputs": [
    {
     "name": "stdout",
     "output_type": "stream",
     "text": [
      "Found 733 images belonging to 5 classes.\n"
     ]
    }
   ],
   "source": [
    "test_set = test_datagen.flow_from_directory(test_path,\n",
    "                                           target_size = (224, 224),\n",
    "                                           batch_size = 32,\n",
    "                                           class_mode = 'categorical')"
   ]
  },
  {
   "cell_type": "markdown",
   "id": "223672fd",
   "metadata": {},
   "source": [
    "# Densenet121"
   ]
  },
  {
   "cell_type": "code",
   "execution_count": 7,
   "id": "03dbf923",
   "metadata": {},
   "outputs": [],
   "source": [
    "Densenet_model = Sequential()\n",
    "\n",
    "pretrained_model = tf.keras.applications.DenseNet121(\n",
    "    include_top=False,\n",
    "    weights=\"imagenet\",\n",
    "    input_shape=(224,224,3),\n",
    "    pooling=None\n",
    ")\n",
    "\n",
    "for layers in pretrained_model.layers:\n",
    "    layers.trainable = False\n",
    "\n",
    "Densenet_model.add(pretrained_model)\n",
    "Densenet_model.add(Flatten())\n",
    "Densenet_model.add(Dense(256, activation='relu'))\n",
    "Densenet_model.add(Dense(5, activation='softmax'))"
   ]
  },
  {
   "cell_type": "code",
   "execution_count": 8,
   "id": "e5b28950",
   "metadata": {},
   "outputs": [
    {
     "name": "stdout",
     "output_type": "stream",
     "text": [
      "Model: \"sequential\"\n",
      "_________________________________________________________________\n",
      "Layer (type)                 Output Shape              Param #   \n",
      "=================================================================\n",
      "densenet121 (Functional)     (None, 7, 7, 1024)        7037504   \n",
      "_________________________________________________________________\n",
      "module_wrapper (ModuleWrappe (None, 50176)             0         \n",
      "_________________________________________________________________\n",
      "module_wrapper_1 (ModuleWrap (None, 256)               12845312  \n",
      "_________________________________________________________________\n",
      "module_wrapper_2 (ModuleWrap (None, 5)                 1285      \n",
      "=================================================================\n",
      "Total params: 19,884,101\n",
      "Trainable params: 12,846,597\n",
      "Non-trainable params: 7,037,504\n",
      "_________________________________________________________________\n"
     ]
    }
   ],
   "source": [
    "Densenet_model.summary()"
   ]
  },
  {
   "cell_type": "code",
   "execution_count": 9,
   "id": "5e4699b0",
   "metadata": {},
   "outputs": [],
   "source": [
    "Densenet_model.compile(optimizer=Adam(learning_rate=0.001),loss='categorical_crossentropy',metrics=['accuracy'])"
   ]
  },
  {
   "cell_type": "code",
   "execution_count": 10,
   "id": "8c2e0d72",
   "metadata": {},
   "outputs": [
    {
     "name": "stdout",
     "output_type": "stream",
     "text": [
      "Epoch 1/50\n",
      "92/92 [==============================] - 85s 773ms/step - loss: 4.7257 - accuracy: 0.6268 - val_loss: 0.8875 - val_accuracy: 0.7203\n",
      "Epoch 2/50\n",
      "92/92 [==============================] - 64s 695ms/step - loss: 0.8405 - accuracy: 0.7228 - val_loss: 0.7857 - val_accuracy: 0.7544\n",
      "Epoch 3/50\n",
      "92/92 [==============================] - 94s 1s/step - loss: 0.7507 - accuracy: 0.7467 - val_loss: 0.6103 - val_accuracy: 0.7626\n",
      "Epoch 4/50\n",
      "92/92 [==============================] - 83s 901ms/step - loss: 0.6526 - accuracy: 0.7641 - val_loss: 0.7533 - val_accuracy: 0.7503\n",
      "Epoch 5/50\n",
      "92/92 [==============================] - 45s 484ms/step - loss: 0.6008 - accuracy: 0.7760 - val_loss: 0.7379 - val_accuracy: 0.7394\n",
      "Epoch 6/50\n",
      "92/92 [==============================] - 38s 415ms/step - loss: 0.5633 - accuracy: 0.7958 - val_loss: 0.5872 - val_accuracy: 0.7681\n",
      "Epoch 7/50\n",
      "92/92 [==============================] - 38s 409ms/step - loss: 0.5491 - accuracy: 0.7921 - val_loss: 0.6186 - val_accuracy: 0.7299\n",
      "Epoch 8/50\n",
      "92/92 [==============================] - 38s 414ms/step - loss: 0.5519 - accuracy: 0.7876 - val_loss: 0.5917 - val_accuracy: 0.7913\n",
      "Epoch 9/50\n",
      "92/92 [==============================] - 38s 407ms/step - loss: 0.5350 - accuracy: 0.8013 - val_loss: 0.5676 - val_accuracy: 0.7776\n",
      "Epoch 10/50\n",
      "92/92 [==============================] - 38s 408ms/step - loss: 0.5200 - accuracy: 0.8047 - val_loss: 0.5820 - val_accuracy: 0.7885\n",
      "Epoch 11/50\n",
      "92/92 [==============================] - 38s 412ms/step - loss: 0.4958 - accuracy: 0.8153 - val_loss: 0.5741 - val_accuracy: 0.7763\n",
      "Epoch 12/50\n",
      "92/92 [==============================] - 39s 419ms/step - loss: 0.4965 - accuracy: 0.8214 - val_loss: 0.5426 - val_accuracy: 0.7831\n",
      "Epoch 13/50\n",
      "92/92 [==============================] - 39s 424ms/step - loss: 0.5064 - accuracy: 0.8167 - val_loss: 0.6673 - val_accuracy: 0.7763\n",
      "Epoch 14/50\n",
      "92/92 [==============================] - 38s 408ms/step - loss: 0.4842 - accuracy: 0.8259 - val_loss: 0.5545 - val_accuracy: 0.7790\n",
      "Epoch 15/50\n",
      "92/92 [==============================] - 39s 421ms/step - loss: 0.4892 - accuracy: 0.8177 - val_loss: 0.5782 - val_accuracy: 0.7640\n",
      "Epoch 16/50\n",
      "92/92 [==============================] - 40s 431ms/step - loss: 0.4841 - accuracy: 0.8153 - val_loss: 0.5794 - val_accuracy: 0.7817\n",
      "Epoch 17/50\n",
      "92/92 [==============================] - 38s 408ms/step - loss: 0.4841 - accuracy: 0.8218 - val_loss: 0.5289 - val_accuracy: 0.8063\n",
      "Epoch 18/50\n",
      "92/92 [==============================] - 38s 413ms/step - loss: 0.4881 - accuracy: 0.8218 - val_loss: 0.5474 - val_accuracy: 0.8022\n",
      "Epoch 19/50\n",
      "92/92 [==============================] - 37s 405ms/step - loss: 0.4842 - accuracy: 0.8191 - val_loss: 0.7649 - val_accuracy: 0.7367\n",
      "Epoch 20/50\n",
      "92/92 [==============================] - 38s 412ms/step - loss: 0.4788 - accuracy: 0.8194 - val_loss: 0.5473 - val_accuracy: 0.8104\n",
      "Epoch 21/50\n",
      "92/92 [==============================] - 38s 407ms/step - loss: 0.4625 - accuracy: 0.8262 - val_loss: 0.6221 - val_accuracy: 0.7708\n",
      "Epoch 22/50\n",
      "92/92 [==============================] - 38s 407ms/step - loss: 0.4605 - accuracy: 0.8245 - val_loss: 0.5602 - val_accuracy: 0.7858\n",
      "Epoch 23/50\n",
      "92/92 [==============================] - 37s 403ms/step - loss: 0.4376 - accuracy: 0.8327 - val_loss: 0.5825 - val_accuracy: 0.7899\n",
      "Epoch 24/50\n",
      "92/92 [==============================] - 38s 408ms/step - loss: 0.4611 - accuracy: 0.8269 - val_loss: 0.6674 - val_accuracy: 0.7231\n",
      "Epoch 25/50\n",
      "92/92 [==============================] - 38s 407ms/step - loss: 0.4478 - accuracy: 0.8214 - val_loss: 0.6815 - val_accuracy: 0.7599\n",
      "Epoch 26/50\n",
      "92/92 [==============================] - 38s 411ms/step - loss: 0.4173 - accuracy: 0.8426 - val_loss: 0.5846 - val_accuracy: 0.8049\n",
      "Epoch 27/50\n",
      "92/92 [==============================] - 38s 411ms/step - loss: 0.4429 - accuracy: 0.8330 - val_loss: 0.5954 - val_accuracy: 0.7626\n",
      "Epoch 28/50\n",
      "92/92 [==============================] - 38s 410ms/step - loss: 0.4465 - accuracy: 0.8242 - val_loss: 0.5953 - val_accuracy: 0.7735\n",
      "Epoch 29/50\n",
      "92/92 [==============================] - 38s 410ms/step - loss: 0.4406 - accuracy: 0.8300 - val_loss: 0.6088 - val_accuracy: 0.7940\n",
      "Epoch 30/50\n",
      "92/92 [==============================] - 38s 410ms/step - loss: 0.4315 - accuracy: 0.8423 - val_loss: 0.5760 - val_accuracy: 0.7667\n",
      "Epoch 31/50\n",
      "92/92 [==============================] - 38s 408ms/step - loss: 0.4078 - accuracy: 0.8423 - val_loss: 0.6660 - val_accuracy: 0.7804\n",
      "Epoch 32/50\n",
      "92/92 [==============================] - 38s 413ms/step - loss: 0.4145 - accuracy: 0.8433 - val_loss: 0.6720 - val_accuracy: 0.7831\n",
      "Epoch 33/50\n",
      "92/92 [==============================] - 42s 455ms/step - loss: 0.4105 - accuracy: 0.8457 - val_loss: 0.6254 - val_accuracy: 0.7613\n",
      "Epoch 34/50\n",
      "92/92 [==============================] - 55s 598ms/step - loss: 0.4048 - accuracy: 0.8402 - val_loss: 0.5804 - val_accuracy: 0.8008\n",
      "Epoch 35/50\n",
      "92/92 [==============================] - 44s 480ms/step - loss: 0.4047 - accuracy: 0.8474 - val_loss: 0.5803 - val_accuracy: 0.7804\n",
      "Epoch 36/50\n",
      "92/92 [==============================] - 42s 460ms/step - loss: 0.3782 - accuracy: 0.8498 - val_loss: 0.5716 - val_accuracy: 0.7981\n",
      "Epoch 37/50\n",
      "92/92 [==============================] - 42s 455ms/step - loss: 0.4184 - accuracy: 0.8436 - val_loss: 0.7230 - val_accuracy: 0.7558\n",
      "Epoch 38/50\n",
      "92/92 [==============================] - 43s 468ms/step - loss: 0.4163 - accuracy: 0.8406 - val_loss: 0.5990 - val_accuracy: 0.7981\n",
      "Epoch 39/50\n",
      "92/92 [==============================] - 42s 459ms/step - loss: 0.4162 - accuracy: 0.8436 - val_loss: 0.5726 - val_accuracy: 0.8049\n",
      "Epoch 40/50\n",
      "92/92 [==============================] - 43s 469ms/step - loss: 0.3736 - accuracy: 0.8559 - val_loss: 0.6012 - val_accuracy: 0.8076\n",
      "Epoch 41/50\n",
      "92/92 [==============================] - 42s 451ms/step - loss: 0.4086 - accuracy: 0.8402 - val_loss: 0.6485 - val_accuracy: 0.7967\n",
      "Epoch 42/50\n",
      "92/92 [==============================] - 44s 484ms/step - loss: 0.3819 - accuracy: 0.8597 - val_loss: 0.6661 - val_accuracy: 0.7681\n",
      "Epoch 43/50\n",
      "92/92 [==============================] - 41s 450ms/step - loss: 0.4182 - accuracy: 0.8371 - val_loss: 0.6151 - val_accuracy: 0.8022\n",
      "Epoch 44/50\n",
      "92/92 [==============================] - 51s 558ms/step - loss: 0.4134 - accuracy: 0.8488 - val_loss: 0.6258 - val_accuracy: 0.8022\n",
      "Epoch 45/50\n",
      "92/92 [==============================] - 48s 523ms/step - loss: 0.3948 - accuracy: 0.8477 - val_loss: 0.5751 - val_accuracy: 0.7981\n",
      "Epoch 46/50\n",
      "92/92 [==============================] - 48s 522ms/step - loss: 0.3688 - accuracy: 0.8634 - val_loss: 0.5964 - val_accuracy: 0.8063\n",
      "Epoch 47/50\n",
      "92/92 [==============================] - 47s 509ms/step - loss: 0.3967 - accuracy: 0.8488 - val_loss: 0.7980 - val_accuracy: 0.7435\n",
      "Epoch 48/50\n",
      "92/92 [==============================] - 49s 533ms/step - loss: 0.3676 - accuracy: 0.8631 - val_loss: 0.5905 - val_accuracy: 0.8049\n",
      "Epoch 49/50\n",
      "92/92 [==============================] - 51s 553ms/step - loss: 0.3806 - accuracy: 0.8559 - val_loss: 0.6003 - val_accuracy: 0.7817\n",
      "Epoch 50/50\n",
      "92/92 [==============================] - 48s 517ms/step - loss: 0.3780 - accuracy: 0.8542 - val_loss: 0.7140 - val_accuracy: 0.7776\n"
     ]
    }
   ],
   "source": [
    "epochs=50\n",
    "history = Densenet_model.fit(\n",
    "  training_set,\n",
    "  validation_data=test_set,\n",
    "  epochs=epochs\n",
    ")"
   ]
  },
  {
   "cell_type": "code",
   "execution_count": 11,
   "id": "b50ee092",
   "metadata": {},
   "outputs": [
    {
     "data": {
      "image/png": "[encoded data removed]",
      "text/plain": [
       "<Figure size 432x288 with 1 Axes>"
      ]
     },
     "metadata": {
      "needs_background": "light"
     },
     "output_type": "display_data"
    },
    {
     "data": {
      "image/png": "[encoded data removed]",
      "text/plain": [
       "<Figure size 432x288 with 1 Axes>"
      ]
     },
     "metadata": {
      "needs_background": "light"
     },
     "output_type": "display_data"
    }
   ],
   "source": [
    "# plot the loss\n",
    "plt.plot(history.history['loss'], label='train loss')\n",
    "plt.plot(history.history['val_loss'], label='test loss')\n",
    "plt.legend()\n",
    "plt.show()\n",
    "\n",
    "# plot the accuracy\n",
    "plt.plot(history.history['accuracy'], label='train acc')\n",
    "plt.plot(history.history['val_accuracy'], label='test acc')\n",
    "plt.legend()\n",
    "plt.show()"
   ]
  },
  {
   "cell_type": "code",
   "execution_count": null,
   "id": "b6544cf0",
   "metadata": {},
   "outputs": [],
   "source": []
  }
 ],
 "metadata": {
  "kernelspec": {
   "display_name": "Python 3",
   "language": "python",
   "name": "python3"
  },
  "language_info": {
   "codemirror_mode": {
    "name": "ipython",
    "version": 3
   },
   "file_extension": ".py",
   "mimetype": "text/x-python",
   "name": "python",
   "nbconvert_exporter": "python",
   "pygments_lexer": "ipython3",
   "version": "3.6.13"
  }
 },
 "nbformat": 4,
 "nbformat_minor": 5
}
